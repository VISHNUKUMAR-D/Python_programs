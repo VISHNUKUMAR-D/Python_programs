{
  "nbformat": 4,
  "nbformat_minor": 0,
  "metadata": {
    "colab": {
      "name": "Pascal's_Triangle_using_2D_array.ipynb",
      "provenance": []
    },
    "kernelspec": {
      "name": "python3",
      "display_name": "Python 3"
    },
    "language_info": {
      "name": "python"
    }
  },
  "cells": [
    {
      "cell_type": "code",
      "metadata": {
        "colab": {
          "base_uri": "https://localhost:8080/"
        },
        "id": "4Oh7VBfEcHCe",
        "outputId": "0adaff08-fb84-442b-853c-fe73ee9e3b8e"
      },
      "source": [
        "######Given an integer numRows, return the first numRows of Pascal's triangle.\n",
        "\n",
        "######In Pascal's triangle, each number is the sum of the two numbers directly above.\n",
        "\n",
        "\n",
        "#####################################################################################\n",
        "\n",
        "\n",
        "n = int(input(\"ENTER NUMBER OF ROWS IN PASCAL TRIANGLE:\"))\n",
        "a = []\n",
        "for i in range(1, n):\n",
        "  row = [1]\n",
        "  for j in range(1, i):\n",
        "    temp = i-1\n",
        "    if j == 0:\n",
        "      break\n",
        "    elif j == temp:\n",
        "      num = 1\n",
        "    else:\n",
        "      num = a[temp-1][j-1] + a[temp-1][j]\n",
        "    row.append(num)\n",
        "  a.append(row) \n",
        "a"
      ],
      "execution_count": 2,
      "outputs": [
        {
          "output_type": "stream",
          "text": [
            "ENTER NUMBER OF ROWS IN PASCAL TRIANGLE:10\n"
          ],
          "name": "stdout"
        },
        {
          "output_type": "execute_result",
          "data": {
            "text/plain": [
              "[[1],\n",
              " [1, 1],\n",
              " [1, 2, 1],\n",
              " [1, 3, 3, 1],\n",
              " [1, 4, 6, 4, 1],\n",
              " [1, 5, 10, 10, 5, 1],\n",
              " [1, 6, 15, 20, 15, 6, 1],\n",
              " [1, 7, 21, 35, 35, 21, 7, 1],\n",
              " [1, 8, 28, 56, 70, 56, 28, 8, 1]]"
            ]
          },
          "metadata": {
            "tags": []
          },
          "execution_count": 2
        }
      ]
    }
  ]
}