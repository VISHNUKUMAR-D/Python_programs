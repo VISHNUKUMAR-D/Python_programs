{
  "nbformat": 4,
  "nbformat_minor": 0,
  "metadata": {
    "colab": {
      "name": "A_TO_ZZZZZ.ipynb",
      "provenance": []
    },
    "kernelspec": {
      "name": "python3",
      "display_name": "Python 3"
    },
    "language_info": {
      "name": "python"
    }
  },
  "cells": [
    {
      "cell_type": "markdown",
      "metadata": {
        "id": "5hsBqhkcr24g"
      },
      "source": [
        "Given a string column Title that represents the column title as appear in an Excel sheet, return its\n",
        "\n",
        "corresponding column number.\n",
        "\n",
        "For example:\n",
        "\n",
        "A-1\n",
        "\n",
        "\n",
        "B-2\n",
        "\n",
        "....\n",
        "\n",
        "\n",
        "Z- 26\n",
        "  \n",
        "AA - 27 \n",
        "\n",
        "AB - 28\n",
        "\n",
        "....\n",
        "\n",
        "ZZ-702\n",
        "\n",
        "....\n",
        "\n",
        "Example 1:\n",
        "\n",
        "Output: 1\n",
        "\n",
        "Example 2:\n",
        "\n",
        "Input: columnTitle = \"AB\" \n",
        "\n",
        "Output: 28\n",
        "\n",
        "Example 3:\n",
        "\n",
        "Input: columnTitle  = \"GY\"\n",
        "\n",
        "Output: 701"
      ]
    },
    {
      "cell_type": "code",
      "metadata": {
        "colab": {
          "base_uri": "https://localhost:8080/"
        },
        "id": "zDSSfXnlr0Go",
        "outputId": "22304a05-5abc-4735-cab6-ca0a5b422661"
      },
      "source": [
        "alphabets = ['A', 'B', 'C', 'D', 'E', 'F', 'G', 'H', 'I', 'J', 'K', 'L', 'M', 'N', 'O', 'P', 'Q', 'R', 'S', 'T', 'U', 'V', 'W', 'X', 'Y', 'Z']\n",
        "exit = 1\n",
        "k = 1\n",
        "sequence = alphabets\n",
        "print(\"......THIS CODE IS APPLICAPLE FOR 27 ** 27 NUMBER OF PERMUTATIONS BUT DUE TO LIMITED RAM USAGE IT IS VALID UPTO 27 ** 5 PERMUTATIONS......\")\n",
        "print(' ')\n",
        "while (exit):\n",
        "  power = len(sequence) - 26 ** k\n",
        "  for i in range(power, len(sequence)):\n",
        "        for j in range(0, 26):\n",
        "          var = sequence[i] + alphabets[j]\n",
        "          sequence.append(var)\n",
        "  k += 1 \n",
        "  if('ZZZZZ' in sequence):\n",
        "    exit = 0\n",
        "choice = 1\n",
        "while (choice):\n",
        " print('COLUMN_TITLE : {}'.format(sequence.index(str(input('ENTER UPTO 5_DIGIT STRING : ')))+ 1))\n",
        " print(' ')\n",
        " choice = int(input('ENTER 1 TO_CONTINUE :: 0 TO_EXIT '))\n",
        "\n",
        "sequence.clear()"
      ],
      "execution_count": 23,
      "outputs": [
        {
          "output_type": "stream",
          "text": [
            "......THIS CODE IS APPLICAPLE FOR 27 ** 27 NUMBER OF PERMUTATIONS BUT DUE TO LIMITED RAM USAGE IT IS VALID UPTO 27 ** 5 PERMUTATIONS......\n",
            " \n",
            "ENTER UPTO 5_DIGIT STRING : A\n",
            "COLUMN_TITLE : 1\n",
            " \n",
            "ENTER 1 TO_CONTINUE :: 0 TO_EXIT 1\n",
            "ENTER UPTO 5_DIGIT STRING : VK\n",
            "COLUMN_TITLE : 583\n",
            " \n",
            "ENTER 1 TO_CONTINUE :: 0 TO_EXIT 1\n",
            "ENTER UPTO 5_DIGIT STRING : SNEHA\n",
            "COLUMN_TITLE : 8932197\n",
            " \n",
            "ENTER 1 TO_CONTINUE :: 0 TO_EXIT 0\n"
          ],
          "name": "stdout"
        }
      ]
    }
  ]
}