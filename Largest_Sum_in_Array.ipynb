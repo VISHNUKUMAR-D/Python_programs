{
  "nbformat": 4,
  "nbformat_minor": 0,
  "metadata": {
    "colab": {
      "name": "Largest_Sum_in_Array.ipynb",
      "provenance": [],
      "collapsed_sections": []
    },
    "kernelspec": {
      "name": "python3",
      "display_name": "Python 3"
    },
    "language_info": {
      "name": "python"
    }
  },
  "cells": [
    {
      "cell_type": "markdown",
      "metadata": {
        "id": "CAWwj_uF6fS3"
      },
      "source": [
        "Given an integer array nums, find the contiguous subarray (containing at least one number) which has the largest sum and return its sum.\n",
        "\n",
        "Example 1:\n",
        "\n",
        "Input: nums [-2,1,-3,4,-1,2,1,-5,4] \n",
        "\n",
        " Explanation: [4,-1,2,11] has the largest sum = 6.\n",
        "\n",
        "Output: 6\n",
        "\n",
        "Example 2:\n",
        "\n",
        "Input: nums = [1]\n",
        "\n",
        "Output: 1\n",
        "\n",
        "Example 3:\n",
        "\n",
        "Input: nums = [5,4,-1,7,8]\n",
        "\n",
        "Output: 23"
      ]
    },
    {
      "cell_type": "code",
      "metadata": {
        "colab": {
          "base_uri": "https://localhost:8080/"
        },
        "id": "sxoyDLCs6eyb",
        "outputId": "2a23edbd-8b9e-4e4a-f347-a202103794c7"
      },
      "source": [
        "choice = 1\n",
        "while (choice):\n",
        "    a = []\n",
        "    output = 0\n",
        "    n = int(input('ENTER THE NUMBER OF ELEMENTS : '))\n",
        "    for i in range(n):\n",
        "      a.append(int(input()))\n",
        "    def sum(s, e):\n",
        "      total = 0\n",
        "      for i in range(s, e):\n",
        "          total += a[i]\n",
        "      return total\n",
        "          \n",
        "    temp = n\n",
        "    while (temp >= 0):\n",
        "      for i in range(temp):\n",
        "        if sum(i, temp) > output:\n",
        "          output = sum(i, temp)\n",
        "          start = i\n",
        "          end = temp\n",
        "      temp -= 1\n",
        "    print('')\n",
        "    print('The SUB_ARRAY {} has the MAXIMUM_SUM : {}'.format(a[start:end], output))\n",
        "    print('')\n",
        "    choice = int(input('[TO EXIT-ENTER ZERO : TO CONTINUE-ENTER 1] --> '))\n"
      ],
      "execution_count": 38,
      "outputs": [
        {
          "output_type": "stream",
          "text": [
            "ENTER THE NUMBER OF ELEMENTS : 9\n",
            "-2\n",
            "1\n",
            "-3\n",
            "4\n",
            "-1\n",
            "2\n",
            "1\n",
            "-5\n",
            "4\n",
            "\n",
            "The SUB_ARRAY [4, -1, 2, 1] has the MAXIMUM_SUM : 6\n",
            "\n",
            "[TO EXIT-ENTER ZERO : TO CONTINUE-ENTER 1] --> 1\n",
            "ENTER THE NUMBER OF ELEMENTS : 1\n",
            "1\n",
            "\n",
            "The SUB_ARRAY [1] has the MAXIMUM_SUM : 1\n",
            "\n",
            "[TO EXIT-ENTER ZERO : TO CONTINUE-ENTER 1] --> 1\n",
            "ENTER THE NUMBER OF ELEMENTS : 5\n",
            "5\n",
            "4\n",
            "-1\n",
            "7\n",
            "8\n",
            "\n",
            "The SUB_ARRAY [5, 4, -1, 7, 8] has the MAXIMUM_SUM : 23\n",
            "\n",
            "[TO EXIT-ENTER ZERO : TO CONTINUE-ENTER 1] --> 1\n",
            "ENTER THE NUMBER OF ELEMENTS : 3\n",
            "-1\n",
            "5\n",
            "-6\n",
            "\n",
            "The SUB_ARRAY [5] has the MAXIMUM_SUM : 5\n",
            "\n",
            "[TO EXIT-ENTER ZERO : TO CONTINUE-ENTER 1] --> 0\n"
          ],
          "name": "stdout"
        }
      ]
    }
  ]
}