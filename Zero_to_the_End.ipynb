{
  "nbformat": 4,
  "nbformat_minor": 0,
  "metadata": {
    "colab": {
      "name": "Zero_to_the_End.ipynb",
      "provenance": []
    },
    "kernelspec": {
      "name": "python3",
      "display_name": "Python 3"
    },
    "language_info": {
      "name": "python"
    }
  },
  "cells": [
    {
      "cell_type": "markdown",
      "metadata": {
        "id": "4v9JVYGiNRu4"
      },
      "source": [
        "Given an integer array nums, move all 0's to the end of it while maintaining the relative order of the non-zero elements.\n",
        "\n",
        "Note that you must do this in-place without making a copy of the array."
      ]
    },
    {
      "cell_type": "code",
      "metadata": {
        "colab": {
          "base_uri": "https://localhost:8080/"
        },
        "id": "-eJE9xOANQSl",
        "outputId": "53015927-8bfc-4224-f84e-866b604934e5"
      },
      "source": [
        "a = []\n",
        "n = int(input('ENTER THE NUMBER OF ELEMNETS:'))\n",
        "print('ENTER {} ELEMENTS:'.format(n))\n",
        "for i in range(0, n):\n",
        "  a.append(int(input()))\n",
        "for j in range(n):\n",
        "  if a[j] == 0:\n",
        "    a.remove(0)\n",
        "    a.append(0)\n",
        "\n",
        "print('OUTPUT = {}'.format(a))"
      ],
      "execution_count": 20,
      "outputs": [
        {
          "output_type": "stream",
          "text": [
            "ENTER THE NUMBER OF ELEMNETS:5\n",
            "ENTER 5 ELEMENTS:\n",
            "0\n",
            "1\n",
            "0\n",
            "3\n",
            "12\n",
            "OUTPUT = [1, 3, 12, 0, 0]\n"
          ],
          "name": "stdout"
        }
      ]
    }
  ]
}