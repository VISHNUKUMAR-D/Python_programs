{
  "nbformat": 4,
  "nbformat_minor": 0,
  "metadata": {
    "colab": {
      "name": "Roman_Numeral_Convertor.ipynb",
      "provenance": []
    },
    "kernelspec": {
      "name": "python3",
      "display_name": "Python 3"
    },
    "language_info": {
      "name": "python"
    }
  },
  "cells": [
    {
      "cell_type": "markdown",
      "metadata": {
        "id": "0Pi6yhPnhDlx"
      },
      "source": [
        "Roman numerals are represented by seven different symbols: 1, V, X, L, C, D and M.\n",
        "\n",
        "Symbol\n",
        "\n",
        "V\n",
        "\n",
        "X\n",
        "\n",
        "L\n",
        "\n",
        "Value\n",
        "\n",
        "1 5\n",
        "\n",
        "10\n",
        "\n",
        "50\n",
        "\n",
        "100\n",
        "\n",
        "500\n",
        "\n",
        "1000\n",
        "\n",
        "D\n",
        "\n",
        "M\n",
        "\n",
        "For example, 2 is written as II in Roman numeral, just two one's added together. 12 is written as XII, which is simply X + II. The number 27 is written as XXVII, which is XX+V+ II.\n",
        "\n",
        "Roman numerals are usually written largest to smallest from left to right. However, the numeral for four is not IIII. Instead, the number four is written as IV. Because the one is before the five we subtract it making four. The same principle applies to the number nine, which is written as IX. There are six instances where subtraction is used:\n",
        "\n",
        "I can be placed before V (5) and X (10) to make 4 and 9.\n",
        "\n",
        "X can be placed before L (50) and C (100) to make 40 and 90.\n",
        "\n",
        "C can be placed before D (500) and M (1000) to make 400 and 900.\n",
        "\n",
        "Given a roman numeral, convert it to an integer.\n"
      ]
    },
    {
      "cell_type": "code",
      "metadata": {
        "colab": {
          "base_uri": "https://localhost:8080/"
        },
        "id": "kLT3oVfWhGRA",
        "outputId": "4a2b48fa-2c61-4ea4-919c-12062e354dd5"
      },
      "source": [
        "print('...ENTER ZERO TO EXIT...')\n",
        "while (1):\n",
        "  a = input(str('ENETER A ROMAN NUMERAL (CAPS):'))\n",
        "  output = i = 0\n",
        "  def conversion(val):\n",
        "    if val == 'I':\n",
        "      value = 1\n",
        "    elif val == 'V':\n",
        "      value = 5\n",
        "    elif val == 'X':\n",
        "      value = 10\n",
        "    elif val == 'L':\n",
        "      value = 50\n",
        "    elif val == 'C':\n",
        "      value = 100\n",
        "    elif val == 'D':\n",
        "      value = 500\n",
        "    elif val == 'M':\n",
        "      value = 1000\n",
        "    elif val == '0':\n",
        "      print(r'ENTERED 0 (i.e) IS THE COMMAND TO EXIT.')\n",
        "      value = 0\n",
        "    else:\n",
        "      print(\"INVALID STRING FOR ROMAN NUMERALS\")\n",
        "    return value\n",
        "\n",
        "  if len(a) == 1:\n",
        "    if conversion(a[i]) == 0:\n",
        "      break\n",
        "    else:\n",
        "      output += conversion(a[i])\n",
        "\n",
        "  else:\n",
        "    while (i < len(a)):\n",
        "      if i+1 < len(a):\n",
        "        next = i+1\n",
        "        if conversion(a[i]) < conversion(a[next]):\n",
        "          output += conversion(a[i+1]) - conversion(a[i])\n",
        "          i = next+1\n",
        "        elif conversion(a[i]) == 0:\n",
        "          break\n",
        "        else:\n",
        "          output += conversion(a[i])\n",
        "          i = i+1\n",
        "      else:\n",
        "        output += conversion(a[i])\n",
        "        i = i+1\n",
        "\n",
        "\n",
        "  print(r\"THE NUMERIC VALUE FOR ROMAN NUMERAL NUMBER '{}' IS {}\".format(a, output))\n",
        "  print('')\n"
      ],
      "execution_count": 76,
      "outputs": [
        {
          "output_type": "stream",
          "text": [
            "...ENTER ZERO TO EXIT...\n",
            "ENETER A ROMAN NUMERAL (CAPS):III\n",
            "THE NUMERIC VALUE FOR ROMAN NUMERAL NUMBER 'III' IS 3\n",
            "\n",
            "ENETER A ROMAN NUMERAL (CAPS):IV\n",
            "THE NUMERIC VALUE FOR ROMAN NUMERAL NUMBER 'IV' IS 4\n",
            "\n",
            "ENETER A ROMAN NUMERAL (CAPS):IX\n",
            "THE NUMERIC VALUE FOR ROMAN NUMERAL NUMBER 'IX' IS 9\n",
            "\n",
            "ENETER A ROMAN NUMERAL (CAPS):LVIII\n",
            "THE NUMERIC VALUE FOR ROMAN NUMERAL NUMBER 'LVIII' IS 58\n",
            "\n",
            "ENETER A ROMAN NUMERAL (CAPS):MCMXCIV\n",
            "THE NUMERIC VALUE FOR ROMAN NUMERAL NUMBER 'MCMXCIV' IS 1994\n",
            "\n",
            "ENETER A ROMAN NUMERAL (CAPS):0\n",
            "ENTERED 0 (i.e) IS THE COMMAND TO EXIT.\n"
          ],
          "name": "stdout"
        }
      ]
    }
  ]
}