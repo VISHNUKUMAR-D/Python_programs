{
  "nbformat": 4,
  "nbformat_minor": 0,
  "metadata": {
    "colab": {
      "name": "Missing_Number_in_Array_Range.ipynb",
      "provenance": []
    },
    "kernelspec": {
      "name": "python3",
      "display_name": "Python 3"
    },
    "language_info": {
      "name": "python"
    }
  },
  "cells": [
    {
      "cell_type": "markdown",
      "metadata": {
        "id": "o3ow5Mo_JZKh"
      },
      "source": [
        "Given an array nums containing n distinct numbers in the range (0, n), return the only number in the\n",
        "\n",
        "range that is missing from the array\n",
        "\n",
        "Follow up: Could you implement solution using only O(1) extra space complexity and O(n) runtime\n",
        "\n",
        "complexity?\n",
        "\n",
        "Example 1:\n",
        "\n",
        "Input: array =[3,0,1]\n",
        "\n",
        " Output: 2\n",
        "\n",
        "Explanation: n = 3 since there are 3 numbers, so all numbers are in the range (0,3). 2 is the missing number in the range since it does not appear in nums.\n",
        "\n",
        "Example 2\n",
        "\n",
        "Input: array = [0,1] \n",
        "\n",
        "Output: 2\n",
        "\n",
        "Explanation: n=2 since there are 2 numbers, so all numbers are in the range (0,2), 2 is the missing number in the range since it does not appear in nums."
      ]
    },
    {
      "cell_type": "code",
      "metadata": {
        "colab": {
          "base_uri": "https://localhost:8080/"
        },
        "id": "03M6c35SJZ2X",
        "outputId": "6a3b88b0-2506-44d3-a330-6b8fefdbcdaf"
      },
      "source": [
        "array = []\n",
        "exit = 1\n",
        "while (exit):\n",
        "  n = int(input('ENTER ARRAY SIZE : '))\n",
        "  for i in range(n):\n",
        "    array.append(int(input()))\n",
        "  for i in range(n+1):\n",
        "    if i in array:\n",
        "      continue\n",
        "    else:\n",
        "      dummy.append(i)\n",
        "  print(' ')\n",
        "  print('THE ELEMENTS THAT ARE MISSING IN THE ARRAY {} OF RANGE {} IS {}'.format(array, [0, n], dummy))\n",
        "  exit = int(input('ENTER 1 TO_CONTINUE || 0 TO_EXIT : '))\n",
        "  array.clear()\n",
        "  dummy.clear()\n",
        "  print(' ')\n",
        "\n",
        "    "
      ],
      "execution_count": 16,
      "outputs": [
        {
          "output_type": "stream",
          "text": [
            "ENTER ARRAY SIZE : 3\n",
            "3\n",
            "0\n",
            "1\n",
            " \n",
            "THE ELEMENTS THAT ARE MISSING IN THE ARRAY [3, 0, 1] OF RANGE [0, 3] IS [2]\n",
            "ENTER 1 TO_CONTINUE || 0 TO_EXIT : 1\n",
            " \n",
            "ENTER ARRAY SIZE : 2\n",
            "0\n",
            "1\n",
            " \n",
            "THE ELEMENTS THAT ARE MISSING IN THE ARRAY [0, 1] OF RANGE [0, 2] IS [2]\n",
            "ENTER 1 TO_CONTINUE || 0 TO_EXIT : 1\n",
            " \n",
            "ENTER ARRAY SIZE : 6\n",
            "3\n",
            "2\n",
            "8\n",
            "7\n",
            "9\n",
            "4\n",
            " \n",
            "THE ELEMENTS THAT ARE MISSING IN THE ARRAY [3, 2, 8, 7, 9, 4] OF RANGE [0, 6] IS [0, 1, 5, 6]\n",
            "ENTER 1 TO_CONTINUE || 0 TO_EXIT : 1\n",
            " \n",
            "ENTER ARRAY SIZE : 1\n",
            "1\n",
            " \n",
            "THE ELEMENTS THAT ARE MISSING IN THE ARRAY [1] OF RANGE [0, 1] IS [0]\n",
            "ENTER 1 TO_CONTINUE || 0 TO_EXIT : 0\n",
            " \n"
          ],
          "name": "stdout"
        }
      ]
    }
  ]
}